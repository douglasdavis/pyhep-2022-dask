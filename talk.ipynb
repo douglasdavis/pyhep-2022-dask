{
 "cells": [
  {
   "cell_type": "markdown",
   "id": "955586f6",
   "metadata": {},
   "source": [
    "<img src=\"https://docs.dask.org/en/latest/_images/dask_horizontal.svg\" align=\"right\" width=\"30%\"/>"
   ]
  },
  {
   "cell_type": "markdown",
   "id": "02064b8d",
   "metadata": {},
   "source": [
    "<center>\n",
    "    <h1>\n",
    "Dask Tutorial for PyHEP 2022\n",
    "    </h1>\n",
    "</center>\n",
    "\n",
    "Dask is a pure Python library for parallel and distributed computing designed to scale up workflows in the PyData ecosystem.\n",
    "\n",
    "Dask is has two main components:\n",
    "\n",
    "- The **collections library(ies)** (sometimes called \"Dask core\")\n",
    "  - `dask.array`: chunked NumPy\n",
    "  - `dask.dataframe`: partitioned Pandas\n",
    "  - `dask.bag`: partitioned iterables\n",
    "  - `dask.delayed`: custom algorithms\n",
    "- The **execution engines** (task schedulers)\n",
    "  - The distributed engine is its own project (`distributed`, sometimes called \"Dask Distributed\")"
   ]
  },
  {
   "cell_type": "markdown",
   "id": "4911fe3d",
   "metadata": {},
   "source": [
    "<div style=\"text-align: center;\">\n",
    "  <img src=\"https://docs.dask.org/en/stable/_images/dask-overview.svg\" align=\"center\" width=\"70%\"/>\n",
    "</div>"
   ]
  },
  {
   "cell_type": "markdown",
   "id": "23ac9a3c-fb91-46a2-b1db-4d1f28932032",
   "metadata": {},
   "source": [
    "We'll start with a simple `dask.delayed` example that covers _a lot_ of how Dask works:"
   ]
  },
  {
   "cell_type": "code",
   "execution_count": null,
   "id": "802e77de",
   "metadata": {},
   "outputs": [],
   "source": [
    "from dask.delayed import delayed\n",
    "\n",
    "def inc(x):\n",
    "    return x + 1\n",
    "\n",
    "inc = delayed(inc)"
   ]
  },
  {
   "cell_type": "code",
   "execution_count": null,
   "id": "49504827-e768-4482-9dde-7a1232a74e1f",
   "metadata": {},
   "outputs": [],
   "source": [
    "inc(7)"
   ]
  },
  {
   "cell_type": "markdown",
   "id": "14288fe8-6993-4533-aa20-3172a52292d3",
   "metadata": {},
   "source": [
    "Notice that this just creates a `Delayed` object."
   ]
  },
  {
   "cell_type": "code",
   "execution_count": null,
   "id": "ab375e37-28f8-43db-9e8e-f4f05bba5564",
   "metadata": {},
   "outputs": [],
   "source": [
    "delayed_thing = inc(7)"
   ]
  },
  {
   "cell_type": "markdown",
   "id": "f60660ca-ab55-4de4-93c3-50fc3581a091",
   "metadata": {},
   "source": [
    "We have to ask Dask to determine the result via `compute()`"
   ]
  },
  {
   "cell_type": "code",
   "execution_count": null,
   "id": "609fc2c1-4af0-4ca7-9292-2ab8865ce317",
   "metadata": {},
   "outputs": [],
   "source": [
    "delayed_thing.compute()"
   ]
  },
  {
   "cell_type": "markdown",
   "id": "b32581a4-266e-4b58-b599-00824cc0ad69",
   "metadata": {},
   "source": [
    "We can start to construct a more complex task graph by chaining function calls:"
   ]
  },
  {
   "cell_type": "code",
   "execution_count": null,
   "id": "ff5819f9-196d-4b61-9904-64dca6bd4faa",
   "metadata": {},
   "outputs": [],
   "source": [
    "@delayed\n",
    "def inc(x):\n",
    "    return x + 1\n",
    "\n",
    "@delayed\n",
    "def add(x, y):\n",
    "    return x + y"
   ]
  },
  {
   "cell_type": "code",
   "execution_count": null,
   "id": "a9ac52b4-b898-46b6-9831-63a5efbcf3cc",
   "metadata": {},
   "outputs": [],
   "source": [
    "delayed_thing = add(inc(1), inc(2))"
   ]
  },
  {
   "cell_type": "code",
   "execution_count": null,
   "id": "9a56b62e-89cd-4c2d-b66e-9a0b32974297",
   "metadata": {},
   "outputs": [],
   "source": [
    "delayed_thing.compute()"
   ]
  },
  {
   "cell_type": "markdown",
   "id": "b942e764-650c-4651-a61d-d150766e95d7",
   "metadata": {},
   "source": [
    "We can inspect the complete task graph to see how dask accomplishing computing the result of the collection:"
   ]
  },
  {
   "cell_type": "code",
   "execution_count": null,
   "id": "f54fa2b9-4b6b-47c8-a323-062f376f504e",
   "metadata": {},
   "outputs": [],
   "source": [
    "delayed_task_graph = delayed_thing.dask.to_dict()"
   ]
  },
  {
   "cell_type": "code",
   "execution_count": null,
   "id": "53ae648d-c729-41e5-aa6d-aef534fd8db3",
   "metadata": {},
   "outputs": [],
   "source": [
    "for i, (k, v) in enumerate(delayed_task_graph.items()):\n",
    "    if i != 0:\n",
    "        print(\"\\n\")\n",
    "    print(\"The key (label) of a task:   \", k)\n",
    "    print(\"The task itself (Lisp S-exp):\", v)"
   ]
  },
  {
   "cell_type": "markdown",
   "id": "ba6fe781-1b82-4172-83e4-7bdb75af785f",
   "metadata": {},
   "source": [
    "There is a much better method of inspection! (`visualize()`)"
   ]
  },
  {
   "cell_type": "code",
   "execution_count": null,
   "id": "d050846b-e0a7-47e3-bd52-bdd3998d5b9d",
   "metadata": {},
   "outputs": [],
   "source": [
    "delayed_thing.visualize()"
   ]
  },
  {
   "cell_type": "markdown",
   "id": "26ff30f9-f82c-4422-90da-c27acb8976be",
   "metadata": {},
   "source": [
    "Let's take a look at an example that illustrates something closer to a real workflow: reading and operating on files to produce a histogram. Our example will have two steps:\n",
    "1. Load an uproot TTree by file and tree name\n",
    "2. Compute some number from information in the file"
   ]
  },
  {
   "cell_type": "code",
   "execution_count": null,
   "id": "8089d84d-fa4b-4e6b-8ae9-1b5946bcd447",
   "metadata": {},
   "outputs": [],
   "source": [
    "import uproot\n",
    "import awkward as ak\n",
    "import hist\n",
    "import time\n",
    "from skhep_testdata import data_path\n",
    "\n",
    "paths = [data_path(\"uproot-Zmumu.root\")] * 5"
   ]
  },
  {
   "cell_type": "code",
   "execution_count": null,
   "id": "8ea99418-0bc0-4d82-ad2c-1177efd72655",
   "metadata": {},
   "outputs": [],
   "source": [
    "@delayed\n",
    "def read_tree(file_name, tree_name):\n",
    "    time.sleep(1)  # faking making the file larger\n",
    "    return uproot.open(file_name)[tree_name]\n",
    "\n",
    "@delayed\n",
    "def calculation(tree):\n",
    "    arrs = tree.arrays()\n",
    "    h = hist.Hist(hist.axis.Regular(bins=20, start=0, stop=200, name=\"abs(E1-E2)\"))\n",
    "    h.fill(abs(arrs.E1 - arrs.E2))\n",
    "    return h"
   ]
  },
  {
   "cell_type": "code",
   "execution_count": null,
   "id": "993192bc-eb69-4cb6-9a97-1fcefbedd489",
   "metadata": {},
   "outputs": [],
   "source": [
    "calculations = []\n",
    "for p in paths:\n",
    "    tree = read_tree(p, \"events\")\n",
    "    calc = calculation(tree)\n",
    "    calculations.append(calc)"
   ]
  },
  {
   "cell_type": "code",
   "execution_count": null,
   "id": "53b78483-2e25-4bb3-8786-748fc1d587f5",
   "metadata": {},
   "outputs": [],
   "source": [
    "calculations"
   ]
  },
  {
   "cell_type": "code",
   "execution_count": null,
   "id": "78732b6c-4fb1-4f6f-8c9b-8a136f863e4b",
   "metadata": {
    "tags": []
   },
   "outputs": [],
   "source": [
    "sum(calculations).visualize()"
   ]
  },
  {
   "cell_type": "code",
   "execution_count": null,
   "id": "35962701-6ef3-4eb3-84d7-a80b839c694c",
   "metadata": {},
   "outputs": [],
   "source": [
    "sum(calculations).compute()"
   ]
  },
  {
   "cell_type": "code",
   "execution_count": null,
   "id": "f13467d3-7526-4bea-9b39-783a43cdf619",
   "metadata": {},
   "outputs": [],
   "source": [
    "%%timeit\n",
    "sum(calculations).compute()"
   ]
  },
  {
   "cell_type": "markdown",
   "id": "4c778f80-3ff1-4271-8841-ee68f303ede7",
   "metadata": {},
   "source": [
    "Let's the same calculation to the non-Dask workflow:"
   ]
  },
  {
   "cell_type": "code",
   "execution_count": null,
   "id": "fbe157a2-746f-4da1-b130-00b1509eba23",
   "metadata": {},
   "outputs": [],
   "source": [
    "def read_tree(file_name, tree_name):\n",
    "    time.sleep(1)  # faking making the file larger\n",
    "    return uproot.open(file_name)[tree_name]\n",
    "\n",
    "def calculation(tree):\n",
    "    arrs = tree.arrays()\n",
    "    h = hist.Hist(hist.axis.Regular(bins=20, start=0, stop=200, name=\"abs(E1-E2)\"))\n",
    "    h.fill(abs(arrs.E1 - arrs.E2))\n",
    "    return h"
   ]
  },
  {
   "cell_type": "code",
   "execution_count": null,
   "id": "c5799c62-961a-40a2-a3a7-de05e06aad43",
   "metadata": {},
   "outputs": [],
   "source": [
    "%%timeit\n",
    "calculations = []\n",
    "for p in paths:\n",
    "    tree = read_tree(p, \"events\")\n",
    "    calc = calculation(tree)\n",
    "    calculations.append(calc)\n",
    "sum(calculations)"
   ]
  },
  {
   "cell_type": "markdown",
   "id": "2fe7ff9c-2482-413e-9022-37d8ab08e797",
   "metadata": {},
   "source": [
    "dask.array\n",
    "=========="
   ]
  },
  {
   "cell_type": "markdown",
   "id": "540970af-9a0b-4abb-bcba-f1c0743f1546",
   "metadata": {},
   "source": [
    "<img src=\"https://docs.dask.org/en/stable/_images/dask-array.svg\" width=\"50%\">\n"
   ]
  },
  {
   "cell_type": "code",
   "execution_count": null,
   "id": "4d00ba32-ea2a-49f9-8070-cf2c5e660513",
   "metadata": {},
   "outputs": [],
   "source": []
  }
 ],
 "metadata": {
  "kernelspec": {
   "display_name": "Python 3 (ipykernel)",
   "language": "python",
   "name": "python3"
  },
  "language_info": {
   "codemirror_mode": {
    "name": "ipython",
    "version": 3
   },
   "file_extension": ".py",
   "mimetype": "text/x-python",
   "name": "python",
   "nbconvert_exporter": "python",
   "pygments_lexer": "ipython3",
   "version": "3.10.7"
  }
 },
 "nbformat": 4,
 "nbformat_minor": 5
}
